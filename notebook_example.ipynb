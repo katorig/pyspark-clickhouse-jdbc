{
 "cells": [
  {
   "cell_type": "code",
   "execution_count": 3,
   "id": "6362b245",
   "metadata": {},
   "outputs": [],
   "source": [
    "import os\n",
    "from pyspark.sql import SparkSession\n",
    "\n",
    "ABSOLUTE_PATH_TO_JARFILE = '/home/katorig/clickhouse-jdbc-0.3.1.jar'\n",
    "CLICKHOUSE_JAR = f'file://{ABSOLUTE_PATH_TO_JARFILE}'\n",
    "\n",
    "os.environ['PYSPARK_SUBMIT_ARGS'] = f'--jars {CLICKHOUSE_JAR} pyspark-shell'\n",
    "# add more environment variables if application needs it\n",
    "\n",
    "\n",
    "def init_spark(app_name: str, num_executors: int, executor_memory='1G',\n",
    "               executor_cores=2, driver_memory='2G', queue=''):\n",
    "    \n",
    "    spark_session = (\n",
    "        SparkSession\n",
    "        .builder\n",
    "        .appName(app_name)\n",
    "        .master('yarn')\n",
    "        .config('spark.yarn.queue', queue)\n",
    "        .config('spark.driver.memory', driver_memory)\n",
    "        .config('spark.executor.cores', executor_cores)\n",
    "        .config('spark.executor.memory', executor_memory)\n",
    "        .config('spark.executor.instances', num_executors)  # add more spark params if needed\n",
    "        .config('spark.jars', CLICKHOUSE_JAR)\n",
    "        .config('spark.driver.userClassPathFirst', 'true')\n",
    "        .config('spark.driver.extraLibraryPath',\n",
    "                f'/usr/hdp/2.6.5.0-292/hadoop/lib/native:{CLICKHOUSE_JAR}')  # example for multiple paths\n",
    "        .config('spark.executor.userClassPathFirst', 'true')\n",
    "        .config('spark.executor.extraLibraryPath',\n",
    "                f'/usr/hdp/2.6.5.0-292/hadoop/lib/native:{CLICKHOUSE_JAR}')\n",
    "    )\n",
    "    \n",
    "    spark = (\n",
    "        spark_session\n",
    "        .getOrCreate()\n",
    "    )\n",
    " \n",
    "    return spark"
   ]
  },
  {
   "cell_type": "code",
   "execution_count": 4,
   "id": "8bb75717",
   "metadata": {},
   "outputs": [],
   "source": [
    "spark = init_spark(\"click-katorig\", queue='data', num_executors=3)"
   ]
  },
  {
   "cell_type": "code",
   "execution_count": 7,
   "id": "44b20a65",
   "metadata": {},
   "outputs": [],
   "source": [
    "host = os.environ.get('CH_HOST')\n",
    "database = os.environ.get('CH_DATABASE')\n",
    "port = os.environ.get('CH_PORT')\n",
    "url = f'jdbc:clickhouse://{host}:{port}/{database}'\n",
    "user = os.environ.get('CH_USERNAME')\n",
    "password = os.environ.get('CH_PASSWORD')\n",
    "dbtable = f'{database}.table'\n",
    "driver = 'ru.yandex.clickhouse.ClickHouseDriver'\n",
    "\n",
    "df = (\n",
    "    spark.read.format('jdbc')\n",
    "    .option('driver', driver)\n",
    "    .option('url', url)\n",
    "    .option('user', user)\n",
    "    .option('password', password)\n",
    "    .option('dbtable', dbtable)\n",
    "    .load()\n",
    ")"
   ]
  },
  {
   "cell_type": "code",
   "execution_count": null,
   "outputs": [],
   "source": [
    "%%time\n",
    "print(df.show(5))"
   ],
   "metadata": {
    "collapsed": false,
    "pycharm": {
     "name": "#%%\n"
    }
   }
  },
  {
   "cell_type": "code",
   "execution_count": 13,
   "id": "6190f3cf",
   "metadata": {
    "pycharm": {
     "name": "#%%\n"
    }
   },
   "outputs": [],
   "source": [
    "spark.stop()\n"
   ]
  }
 ],
 "metadata": {
  "kernelspec": {
   "display_name": "Python 3 (ipykernel)",
   "language": "python",
   "name": "python3"
  },
  "language_info": {
   "codemirror_mode": {
    "name": "ipython",
    "version": 3
   },
   "file_extension": ".py",
   "mimetype": "text/x-python",
   "name": "python",
   "nbconvert_exporter": "python",
   "pygments_lexer": "ipython3",
   "version": "3.7.10"
  }
 },
 "nbformat": 4,
 "nbformat_minor": 5
}